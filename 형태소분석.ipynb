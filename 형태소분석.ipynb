{
  "nbformat": 4,
  "nbformat_minor": 0,
  "metadata": {
    "colab": {
      "name": "Colaboratory에 오신 것을 환영합니다",
      "provenance": [],
      "collapsed_sections": []
    },
    "kernelspec": {
      "display_name": "Python 3",
      "name": "python3"
    }
  },
  "cells": [
    {
      "cell_type": "code",
      "metadata": {
        "id": "F-AJTnc-M3tk",
        "colab_type": "code",
        "colab": {}
      },
      "source": [
        "from konlpy.tag import Mecab, Komoran, Hannanum, Kkma, Okt\n",
        "from google.colab import drive\n",
        "import numpy as np\n",
        "import pandas as pd\n",
        "import tensorflow as tf\n",
        "import matplotlib.pyplot as plt\n",
        "import csv\n",
        "from khaiii import KhaiiiApi\n",
        "\n",
        "mecab = Mecab()\n",
        "\n",
        "khaiii = KhaiiiApi()\n",
        "\n",
        "sent = '감정노동자 보호법은 사업주로 하여금 감정노동으로부터 근로자를 보호하는 예방 조치를 이행하도록 강제한다'\n",
        "\n",
        "print(mecab.pos(sent)) # mecab\n",
        "print()\n",
        "\n",
        "for word in api.analyze(sent): # khaiii\n",
        "    print(word)"
      ],
      "execution_count": null,
      "outputs": []
    },
    {
      "cell_type": "code",
      "metadata": {
        "id": "-v3paut5MzPL",
        "colab_type": "code",
        "colab": {}
      },
      "source": [
        "from konlpy.tag import Okt, Mecab\n",
        "from google.colab import drive\n",
        "import numpy as np\n",
        "import pandas as pd\n",
        "import tensorflow as tf\n",
        "import matplotlib.pyplot as plt\n",
        "import csv\n",
        "\n",
        "drive.mount('/content/gdrive', force_remount=True)\n",
        "\n",
        "data = pd.read_csv('/content/gdrive/My Drive/alldata.csv')['text']\n",
        "mecab = Mecab() \n",
        "\n",
        "\n",
        "res = []\n",
        "count = 0\n",
        "for words in data:\n",
        "  count += 1\n",
        "  if count % 5000 == 0:\n",
        "    print(count)\n",
        "  tmp = mecab.pos(words)\n",
        "  t_list = list()\n",
        "  for parse in tmp:\n",
        "    if parse[1] in ['MAG', 'NNG', 'NNP', 'NR', 'SH', 'SL', 'SN', 'VV', 'VA', 'XR'\n",
        "                    'EC', 'EF', 'EP', 'ETM', 'ETN', 'JC', 'JKB', 'JKC', 'JKG', 'JKO',\n",
        "                    'JKQ', 'JKS', 'JKV', 'JX', 'SE', 'SF', 'SO', 'SP', 'SS', 'SW',\n",
        "                    'VX', 'XPN', 'XSA', 'XSN', 'XSV']:\n",
        "      if parse[0] not in ['IC', 'MAJ', 'MM', 'NNB', 'NP', 'VCN', 'VCP']:\n",
        "        t_list.append(parse[0])\n",
        "  res.append(t_list)\n",
        "\n",
        "pd.DataFrame(res).to_csv('/content/gdrive/My Drive/mecab_nonmun1.csv')"
      ],
      "execution_count": null,
      "outputs": []
    },
    {
      "cell_type": "code",
      "metadata": {
        "id": "t-hkFfscMzk-",
        "colab_type": "code",
        "colab": {}
      },
      "source": [
        "from konlpy.tag import Okt, Mecab\n",
        "from google.colab import drive\n",
        "import numpy as np\n",
        "import pandas as pd\n",
        "import tensorflow as tf\n",
        "import matplotlib.pyplot as plt\n",
        "import csv\n",
        "\n",
        "drive.mount('/content/gdrive', force_remount=True)\n",
        "\n",
        "data = pd.read_csv('/content/gdrive/My Drive/alldata.csv')['text']\n",
        "mecab = Mecab() \n",
        "\n",
        "\n",
        "res = []\n",
        "count = 0\n",
        "for words in data:\n",
        "  count += 1\n",
        "  if count % 5000 == 0:\n",
        "    print(count)\n",
        "  tmp = mecab.pos(words)\n",
        "  t_list = list()\n",
        "  for parse in tmp:\n",
        "    if parse[1] in ['NNG','NNP', 'NR',\n",
        "                    'VV', 'VA', 'VX', 'VCP', 'VCN',\n",
        "                    'MAG', \n",
        "                    'SN', 'SL', 'SH',\n",
        "                    'XPN', 'XSN', 'XSV', 'XSA', 'XR',\n",
        "                    'VV+EP', 'VA+EP', 'VX+EP',\n",
        "                    'VV+EF', 'VA+EF', 'VX+EF', 'VV+EP+ETM',\n",
        "                    'VV+EC', 'VA+EC', 'VX+EC',\n",
        "                    'NNG+XSV','NNG+ETN', 'MAG+JX']:\n",
        "      if parse[0] not in ['!','@','#','$','^','&','*','(',')','_']:\n",
        "        t_list.append(parse[0])\n",
        "  res.append(t_list)\n",
        "\n",
        "pd.DataFrame(res).to_csv('/content/gdrive/My Drive/mecab_nonmun2.csv')"
      ],
      "execution_count": null,
      "outputs": []
    }
  ]
}